{
 "cells": [
  {
   "cell_type": "code",
   "execution_count": null,
   "id": "40d98755",
   "metadata": {
    "vscode": {
     "languageId": "plaintext"
    }
   },
   "outputs": [],
   "source": [
    "import cv2 as cv\n",
    "import time\n",
    "import matplotlib.pyplot as plt"
   ]
  },
  {
   "cell_type": "code",
   "execution_count": null,
   "id": "96cd7b4f",
   "metadata": {
    "vscode": {
     "languageId": "plaintext"
    }
   },
   "outputs": [],
   "source": [
    "faceProto = \"modelNweight/opencv_face_detector.pbtxt\"\n",
    "faceModel = \"modelNweight/opencv_face_detector_uint8.pb\"\n",
    "\n",
    "ageProto = \"modelNweight/age_deploy.prototxt\"\n",
    "ageModel = \"modelNweight/age_net.caffemodel\"\n",
    "\n",
    "genderProto = \"modelNweight/gender_deploy.prototxt\"\n",
    "genderModel = \"modelNweight/gender_net.caffemodel\"\n",
    "\n",
    "MODEL_MEAN_VALUES = (78.4263377603, 87.7689143744, 114.895847746)\n",
    "ageList = ['(0-2)', '(4-6)', '(8-12)', '(15-20)', '(25-32)', '(38-43)', '(48-53)', '(60-100)']\n",
    "genderList = ['Male', 'Female']\n",
    "\n",
    "# Load the networks\n",
    "ageNet = cv.dnn.readNet(ageModel, ageProto)\n",
    "genderNet = cv.dnn.readNet(genderModel, genderProto)\n",
    "faceNet = cv.dnn.readNet(faceModel, faceProto)\n",
    "\n",
    "padding = 20"
   ]
  },
  {
   "cell_type": "code",
   "execution_count": null,
   "id": "66e0e52f",
   "metadata": {
    "vscode": {
     "languageId": "plaintext"
    }
   },
   "outputs": [],
   "source": [
    "def getFaceBox(net, frame, conf_threshold=0.7):\n",
    "    frameOpencvDnn = frame.copy()\n",
    "    frameHeight = frame.shape[0]\n",
    "    frameWidth = frame.shape[1]\n",
    "    blob = cv.dnn.blobFromImage(frameOpencvDnn, 1.0, (300, 300),\n",
    "                                [104, 117, 123], True, False)\n",
    "    net.setInput(blob)\n",
    "    detections = net.forward()\n",
    "    bboxes = []\n",
    "    for i in range(detections.shape[2]):\n",
    "        confidence = detections[0, 0, i, 2]\n",
    "        if confidence > conf_threshold:\n",
    "            x1 = int(detections[0, 0, i, 3] * frameWidth)\n",
    "            y1 = int(detections[0, 0, i, 4] * frameHeight)\n",
    "            x2 = int(detections[0, 0, i, 5] * frameWidth)\n",
    "            y2 = int(detections[0, 0, i, 6] * frameHeight)\n",
    "            bboxes.append([x1, y1, x2, y2])\n",
    "            cv.rectangle(frameOpencvDnn, (x1, y1), (x2, y2),\n",
    "                         (0, 255, 0), int(round(frameHeight/150)), 8)\n",
    "    return frameOpencvDnn, bboxes"
   ]
  },
  {
   "cell_type": "code",
   "execution_count": null,
   "id": "2d40410e",
   "metadata": {
    "vscode": {
     "languageId": "plaintext"
    }
   },
   "outputs": [],
   "source": [
    "def age_gender_detector(frame):\n",
    "    t = time.time()\n",
    "    frameFace, bboxes = getFaceBox(faceNet, frame)\n",
    "    for bbox in bboxes:\n",
    "        face = frame[max(0,bbox[1]-padding):min(bbox[3]+padding,frame.shape[0]-1),\n",
    "                     max(0,bbox[0]-padding):min(bbox[2]+padding, frame.shape[1]-1)]\n",
    "\n",
    "        blob = cv.dnn.blobFromImage(face, 1.0, (227, 227),\n",
    "                                    MODEL_MEAN_VALUES, swapRB=False)\n",
    "        genderNet.setInput(blob)\n",
    "        genderPreds = genderNet.forward()\n",
    "        gender = genderList[genderPreds[0].argmax()]\n",
    "        print(\"Gender : {}, conf = {:.3f}\".format(gender, genderPreds[0].max()))\n",
    "\n",
    "        ageNet.setInput(blob)\n",
    "        agePreds = ageNet.forward()\n",
    "        age = ageList[agePreds[0].argmax()]\n",
    "        print(\"Age : {}, conf = {:.3f}\".format(age, agePreds[0].max()))\n",
    "\n",
    "        label = \"{},{}\".format(gender, age)\n",
    "        cv.putText(frameFace, label, (bbox[0], bbox[1]-10),\n",
    "                   cv.FONT_HERSHEY_SIMPLEX, 0.8, (0, 255, 255), 2, cv.LINE_AA)\n",
    "    return frameFace"
   ]
  },
  {
   "cell_type": "code",
   "execution_count": null,
   "id": "cb185243",
   "metadata": {
    "vscode": {
     "languageId": "plaintext"
    }
   },
   "outputs": [],
   "source": [
    "cap = cv.VideoCapture(0)\n",
    "\n",
    "# Warm up the camera by skipping initial frames\n",
    "for _ in range(10):\n",
    "    ret, frame = cap.read()\n",
    "\n",
    "ret, frame = cap.read()\n",
    "if ret:\n",
    "    result = age_gender_detector(frame)\n",
    "    result_rgb = cv.cvtColor(result, cv.COLOR_BGR2RGB)\n",
    "    \n",
    "    plt.imshow(result_rgb)\n",
    "    plt.axis('off')\n",
    "    plt.title(\"Prediction Frame\")\n",
    "    plt.show()\n",
    "else:\n",
    "    print(\"❌ Unable to access camera.\")\n",
    "\n",
    "cap.release()"
   ]
  }
 ],
 "metadata": {
  "language_info": {
   "name": "python"
  }
 },
 "nbformat": 4,
 "nbformat_minor": 5
}
